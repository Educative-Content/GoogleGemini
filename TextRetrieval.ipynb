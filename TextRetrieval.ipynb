{
  "nbformat": 4,
  "nbformat_minor": 0,
  "metadata": {
    "colab": {
      "provenance": []
    },
    "kernelspec": {
      "name": "python3",
      "display_name": "Python 3"
    },
    "language_info": {
      "name": "python"
    }
  },
  "cells": [
    {
      "cell_type": "code",
      "source": [
        "# Standard library imports\n",
        "import os\n",
        "import io\n",
        "import getpass\n",
        "\n",
        "# Third-party library imports\n",
        "import PyPDF2\n",
        "import requests\n",
        "import ipywidgets as widgets\n",
        "from IPython.display import display, Markdown\n",
        "\n",
        "# Google Generative AI imports\n",
        "import google.generativeai as genai  # For using Google's Generative AI\n",
        "\n",
        "# LangChain imports\n",
        "from langchain_google_genai import ChatGoogleGenerativeAI\n",
        "from langchain_core.messages import HumanMessage, SystemMessage\n",
        "from langchain_google_genai import ChatGoogleGenerativeAI\n",
        "from langchain.vectorstores import DocArrayInMemorySearch\n",
        "from langchain_google_genai import GoogleGenerativeAIEmbeddings\n",
        "from langchain_core.output_parsers import StrOutputParser\n",
        "from langchain_core.prompts import ChatPromptTemplate\n",
        "from langchain_text_splitters import CharacterTextSplitter\n",
        "from langchain.schema.document import Document\n",
        "from langchain_community.document_loaders import TextLoader\n",
        "from langchain_core.runnables import RunnableLambda, RunnablePassthrough\n",
        "from langchain_community.vectorstores import FAISS"
      ],
      "metadata": {
        "id": "jazwl8W8iVNh"
      },
      "execution_count": 2,
      "outputs": []
    },
    {
      "cell_type": "code",
      "source": [
        "if \"GOOGLE_API_KEY\" not in os.environ:\n",
        "  os.environ[\"GOOGLE_API_KEY\"] = getpass.getpass(\"Provide your Google API Key\")"
      ],
      "metadata": {
        "id": "GKOHY_riji6S"
      },
      "execution_count": null,
      "outputs": []
    },
    {
      "cell_type": "code",
      "execution_count": 4,
      "metadata": {
        "id": "6RGNWrMEhodm"
      },
      "outputs": [],
      "source": [
        "# text retrieval through RAG\n",
        "def generation(retriever):\n",
        "  llm_text = ChatGoogleGenerativeAI(model=\"gemini-pro\")\n",
        "  template = \"\"\"\n",
        "  ```\n",
        "  {context}\n",
        "  ```\n",
        "\n",
        "  {information}\n",
        "\n",
        "\n",
        "  Provide brief information.\n",
        "  \"\"\"\n",
        "  prompt = ChatPromptTemplate.from_template(template)\n",
        "\n",
        "  rag_chain = (\n",
        "      {\"context\": retriever, \"information\": RunnablePassthrough()}\n",
        "      | prompt\n",
        "      | llm_text\n",
        "      | StrOutputParser()\n",
        "  )\n",
        "  # Passing text as input data\n",
        "  result = rag_chain.invoke(\"what are the Essential prompt keywords. Provide the list \")\n",
        "  return result"
      ]
    },
    {
      "cell_type": "code",
      "source": [
        "# Method to generate embeddings\n",
        "def generate_embeddings(text):\n",
        "  embeddings = GoogleGenerativeAIEmbeddings(model=\"models/embedding-001\")\n",
        "  vectorstore = FAISS.from_documents(text, embedding=embeddings)\n",
        "  retriever = vectorstore.as_retriever()\n",
        "  return retriever"
      ],
      "metadata": {
        "id": "ig3Ckg-nhxWo"
      },
      "execution_count": 5,
      "outputs": []
    },
    {
      "cell_type": "code",
      "source": [
        "# Method to generate chunks\n",
        "def get_text_chunks_langchain(text):\n",
        "  text_splitter = CharacterTextSplitter(chunk_size=2000, chunk_overlap=10)\n",
        "  docs = [Document(page_content=x) for x in text_splitter.split_text(text)]\n",
        "  return docs"
      ],
      "metadata": {
        "id": "FzIhkHpLiNmv"
      },
      "execution_count": 6,
      "outputs": []
    },
    {
      "cell_type": "code",
      "source": [
        "def process_pdf(file_path):\n",
        "    # PDF processing\n",
        "    with open(file_path, 'rb') as file:\n",
        "        pdf_reader = PyPDF2.PdfReader(file)\n",
        "        pdf_pages = pdf_reader.pages\n",
        "\n",
        "        # Create Context\n",
        "        context = \"\\n\\n\".join(page.extract_text() for page in pdf_pages)\n",
        "\n",
        "        # Generate chunks\n",
        "        text = get_text_chunks_langchain(context)\n",
        "\n",
        "        # Generate embeddings of the text\n",
        "        retriever = generate_embeddings(text)\n",
        "\n",
        "        # Generate content\n",
        "        result =generation(retriever)\n",
        "\n",
        "        # Display response\n",
        "        display(Markdown(result))\n",
        "\n",
        "\n",
        "# Fetch the pdf\n",
        "pdf_file_path = '/content/Blog.pdf'\n",
        "process_pdf(pdf_file_path)"
      ],
      "metadata": {
        "id": "UHeIjA0i9DNU"
      },
      "execution_count": null,
      "outputs": []
    }
  ]
}